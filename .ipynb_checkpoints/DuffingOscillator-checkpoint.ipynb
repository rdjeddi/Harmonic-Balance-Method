{
 "cells": [
  {
   "cell_type": "code",
   "execution_count": 13,
   "metadata": {
    "collapsed": false
   },
   "outputs": [],
   "source": [
    "%run Nonlinear_Dynamics\n",
    "import numpy as np\n",
    "import pylab as pl\n",
    "def solve_sdof(max_time=10.0, A = 1.2, w = 2, x0 = 0, v0 = 0, plotnow = 1):\n",
    "\n",
    "    \n",
    "    def sdof_deriv(x1_x2, t, A = 1.2, w = 2):\n",
    "        \"\"\"Compute the time-derivative of a SDOF system.\"\"\"\n",
    "        x1, x2 = x1_x2\n",
    "        return [x2, -x2 - x1 - x1**3 + A*np.cos(w*t)]\n",
    "\n",
    "    x0i=((x0, v0))\n",
    "    # Solve for the trajectories\n",
    "    t = sp.linspace(0, max_time, int(250*max_time))\n",
    "    x_t = sp.integrate.odeint(sdof_deriv, x0i, t)\n",
    "    \n",
    "    x, v = x_t.T\n",
    "    f = A*np.cos(w*t)\n",
    "    \n",
    "    if plotnow == 1:\n",
    "        #fig = plt.figure()\n",
    "        #ax = fig.add_axes([0, 0, 1, 1], projection='3d')\n",
    "        plt.plot(t,x,t,f,'--')\n",
    "        pl.legend(['x','Forcing Function'])\n",
    "        plt.xlabel('Time (s)')\n",
    "        plt.ylabel('x')\n",
    "        plt.title('Integrated Response of the Duffing Oscillator')\n",
    "        plt.show()\n",
    "\n",
    "    return t, x, v\n"
   ]
  },
  {
   "cell_type": "code",
   "execution_count": 14,
   "metadata": {
    "collapsed": true
   },
   "outputs": [],
   "source": [
    "#From nonlinear.py posted by Daniel Clark\n",
    "import pylab as pl\n",
    "import numpy as np\n",
    "import scipy.optimize as sci\n",
    "import scipy.integrate as sp\n",
    "\n",
    "# this code is the nonlinear case of \\dotdot{x} + \\dot{x} + x + x**3 = A*cos(w*t)\n",
    "\n",
    "def DuffingOscillatorTimeSeriesResults(N = 99,w = 2,A = 1.2,plotnow = 1):\n",
    "    time = np.linspace(0, 10*np.pi, N+1)    # time samples of forcing function\n",
    "    time = time[0:-1]                         # Removing the extra sample\n",
    "    f = A*np.cos(w*time)                     # My forcing function\n",
    "    T = time[-1]\n",
    "    xbar = 0.3/1.2*f\n",
    "\n",
    "    def FUNCTION(xbar):\n",
    "        N = len(xbar)\n",
    "        Xbar = np.fft.fft(xbar)\n",
    "        omega = np.fft.fftfreq(N, T/(2*np.pi*N) )# + 0.0000001 # list of frequencies\n",
    "        dotxbar = np.fft.ifft(np.multiply((1j*omega),Xbar))\n",
    "        dotdotxbar = np.fft.ifft(np.multiply((1j*omega)**2,Xbar))\n",
    "        R = dotdotxbar + dotxbar + xbar + xbar**3 - f\n",
    "        R = R**2\n",
    "        R = np.sum(R)\n",
    "        return R\n",
    "\n",
    "    optimizedResults = sci.minimize(FUNCTION, xbar, method='SLSQP')\n",
    "    xbar = optimizedResults.x\n",
    "\n",
    "    #print(optimizedResults)\n",
    "    #print(xbar)\n",
    "    if plotnow == 1:\n",
    "        pl.plot(time,xbar,time,f,'--')\n",
    "        pl.legend(['x','Forcing Function'])\n",
    "        pl.xlabel('Time (s)')\n",
    "        pl.title('Harmonic Balance Method Response of the Duffing Oscillator')\n",
    "        pl.show()\n",
    "        \n",
    "    return time,xbar"
   ]
  },
  {
   "cell_type": "code",
   "execution_count": 17,
   "metadata": {
    "collapsed": false
   },
   "outputs": [
    {
     "name": "stdout",
     "output_type": "stream",
     "text": [
      "0.0380550746217\n",
      "0.241655046265\n",
      "0.15747684648\n"
     ]
    },
    {
     "name": "stderr",
     "output_type": "stream",
     "text": [
      "C:\\Users\\tidba_000\\Anaconda3\\lib\\site-packages\\scipy\\optimize\\slsqp.py:62: ComplexWarning: Casting complex values to real discards the imaginary part\n",
      "  jac[i] = (func(*((x0+dx,)+args)) - f0)/epsilon\n",
      "C:\\Users\\tidba_000\\Anaconda3\\lib\\site-packages\\scipy\\optimize\\slsqp.py:407: ComplexWarning: Casting complex values to real discards the imaginary part\n",
      "  slsqp(m, meq, x, xl, xu, fx, c, g, a, acc, majiter, mode, w, jw)\n"
     ]
    }
   ],
   "source": [
    "def Duffing(w = 2,A = 1.2,plotnow = 1):\n",
    "    %run Nonlinear_Dynamics\n",
    "    import numpy as np\n",
    "    import pylab as pl\n",
    "    from scipy.signal import resample\n",
    "\n",
    "    num = 250\n",
    "    t,x,v = solve_sdof(max_time=10*np.pi, x0 = 0, v0 = 0, plotnow = 0)\n",
    "    time,xbar = DuffingOscillatorTimeSeriesResults(N = num,plotnow = 0)\n",
    "    (resampled_x,resampled_t) = resample(x,num,t)\n",
    "    \n",
    "    f = A*np.cos(w*time)\n",
    "    \n",
    "    if plotnow == 1:\n",
    "        pl.plot(time,f,'--',resampled_t,resampled_x,time,xbar)\n",
    "        pl.legend(['forcing function','Integrated Solution','Harmonic Balance Method Response'])\n",
    "        pl.xlabel('Time(s)')\n",
    "        pl.title('Comparison of Results for the Duffing Oscillator')\n",
    "        pl.show()\n",
    "\n",
    "    fs = np.linspace(0, (len(resampled_t)-1), len(resampled_t))\n",
    "    i1 = 0\n",
    "    for i in np.nditer(resampled_t,order = 'F'):\n",
    "        fs[i1] = 1/(t[abs(i1)]-t[abs(i1) - 1])\n",
    "        i1 = i1 + 1\n",
    "    #print(len(t))\n",
    "    #print(len(x))\n",
    "    #print(len(resampled_t))\n",
    "    #print(len(resampled_x))    #print(len(time))\n",
    "    #print(len(xbar))    #print(fs)\n",
    "    #print(np.average(fs))\n",
    "    #print(np.amax(fs))\n",
    "    #print(np.amin(fs))\n",
    "    \n",
    "    RMSE = np.sqrt(1/num*sum((resampled_x-xbar)**2))\n",
    "    print(RMSE)\n",
    "    print(np.sqrt(1/num*sum((resampled_x)**2)))\n",
    "    print(RMSE/np.sqrt(1/num*sum((resampled_x)**2)))\n",
    "    \n",
    "Duffing()"
   ]
  },
  {
   "cell_type": "code",
   "execution_count": null,
   "metadata": {
    "collapsed": true
   },
   "outputs": [],
   "source": []
  }
 ],
 "metadata": {
  "kernelspec": {
   "display_name": "Python 3",
   "language": "python",
   "name": "python3"
  },
  "language_info": {
   "codemirror_mode": {
    "name": "ipython",
    "version": 3
   },
   "file_extension": ".py",
   "mimetype": "text/x-python",
   "name": "python",
   "nbconvert_exporter": "python",
   "pygments_lexer": "ipython3",
   "version": "3.4.3"
  }
 },
 "nbformat": 4,
 "nbformat_minor": 0
}
